{
 "cells": [
  {
   "cell_type": "code",
   "execution_count": 3,
   "metadata": {},
   "outputs": [],
   "source": [
    "#let's say our group classification in 0 and 1\n",
    "\n",
    "import math\n",
    "\n",
    "def pointClassification(label_data, new_point,k):\n",
    "    #label_data given sample daat\n",
    "    #new_point = the given new point which we are going to classify\n",
    "    #k = numbers of neoghnor we are going to classify with\n",
    "    distance = []\n",
    "    for group in label_data:\n",
    "        for feature in label_data[group]:\n",
    "            eculidian_distance = math.sqrt((feature[0] - new_point[0])**2 + (feature[1] - new_point[1])**2)\n",
    "            distance.append((eculidian_distance, group))\n",
    "    distance = sorted(distance)[:k]\n",
    "    freq1 = 0 #frequesncy of class 0 data\n",
    "    freq2 = 0 # frequency of class 1 data\n",
    "    \n",
    "\n",
    "    for data in distance:\n",
    "        if data[1] == 0:\n",
    "            freq1 += 1\n",
    "        elif data[1] == 1:\n",
    "            freq2 += 1\n",
    "    return 0 if freq1 > freq2 else 1\n",
    "def main():\n",
    "    label_data = {0: [(1,12),(2,5),(3,6),(3,10),(3.5,8),(2,11),(2,9),(1,7)],\n",
    "                  1 : [(5,3),(3,2),(1.5,9),(7,2),(6,1),(3.8,1),(5.6,4),(4,2),(2,5)]}\n",
    "    #testing point p(x,y)\n",
    "    new_point = (2.5, 7)\n",
    "    \n",
    "\n",
    "    #number of neighbours\n",
    "    k = 3\n",
    "    print(\"the value for unknown point is classified into-> {}\".format(pointClassification(label_data, new_point,k)))\n",
    "    \n",
    "if __name__==\"__main__\":\n",
    "    main()\n"
   ]
  },
  {
   "cell_type": "code",
   "execution_count": null,
   "metadata": {},
   "outputs": [],
   "source": []
  }
 ],
 "metadata": {
  "kernelspec": {
   "display_name": "Python 3",
   "language": "python",
   "name": "python3"
  },
  "language_info": {
   "codemirror_mode": {
    "name": "ipython",
    "version": 3
   },
   "file_extension": ".py",
   "mimetype": "text/x-python",
   "name": "python",
   "nbconvert_exporter": "python",
   "pygments_lexer": "ipython3",
   "version": "3.12.2"
  }
 },
 "nbformat": 4,
 "nbformat_minor": 2
}
