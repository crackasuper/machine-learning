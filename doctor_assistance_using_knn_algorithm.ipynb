{
 "cells": [
  {
   "cell_type": "code",
   "execution_count": null,
   "metadata": {},
   "outputs": [],
   "source": [
    "from collections import Counter\n",
    "from sklearn.neighbors import KNeighborsClassifier\n",
    "\n",
    "# Sample dataset of diseases and symptoms\n",
    "training_data = {\n",
    "    'Flu': ['fever', 'cough', 'fatigue'],\n",
    "    'Cold': ['runny nose', 'sneezing', 'sore throat'],\n",
    "    'Allergies': ['sneezing', 'itchy eyes', 'runny nose'],\n",
    "    'COVID-19': ['fever', 'dry cough', 'shortness of breath']\n",
    "}\n",
    "\n",
    "# Flatten the training data to convert it into feature vectors\n",
    "X_train = []\n",
    "y_train = []\n",
    "for disease, symptoms in training_data.items():\n",
    "    X_train.append(symptoms)\n",
    "    y_train.append(disease)\n",
    "\n",
    "# Convert symptoms into numerical features\n",
    "all_symptoms = list(set(symptom for symptoms in X_train for symptom in symptoms))\n",
    "symptom_to_index = {symptom: i for i, symptom in enumerate(all_symptoms)}\n",
    "X_train_numeric = [[symptom_to_index[symptom] for symptom in symptoms] for symptoms in X_train]\n",
    "\n",
    "# Train kNN model\n",
    "k = int(input(\"enter number of neighboors\"))  # Number of neighbors to consider\n",
    "knn_classifier = KNeighborsClassifier(n_neighbors=k)\n",
    "knn_classifier.fit(X_train_numeric, y_train)\n",
    "\n",
    "def predict_disease(symptoms):\n",
    "    # Convert user input symptoms into numerical features\n",
    "    symptoms_numeric = [symptom_to_index[symptom] for symptom in symptoms]\n",
    "    \n",
    "    # Predict the disease based on the input symptoms\n",
    "    predicted_disease = knn_classifier.predict([symptoms_numeric])[0]\n",
    "    \n",
    "    # Calculate confidence score based on the distances to nearest neighbors\n",
    "    distances, indices = knn_classifier.kneighbors([symptoms_numeric])\n",
    "    confidence_score = 1 - (distances.sum() / len(distances))\n",
    "    \n",
    "    return predicted_disease, confidence_score\n",
    "\n",
    "# Example usage\n",
    "symptom1 = input(\"sign of disease\")\n",
    "symptom2 = input(\"sign of disease\")\n",
    "symptom3 = input(\"sign of diseases\")\n",
    "user_input_symptoms = [symptom1, symptom2,symptom3]\n",
    "predicted_disease, confidence_score = predict_disease(user_input_symptoms)\n",
    "print(\"Predicted Disease:\", predicted_disease)\n",
    "print(\"Confidence Score:\", confidence_score)\n"
   ]
  }
 ],
 "metadata": {
  "language_info": {
   "name": "python"
  }
 },
 "nbformat": 4,
 "nbformat_minor": 2
}
